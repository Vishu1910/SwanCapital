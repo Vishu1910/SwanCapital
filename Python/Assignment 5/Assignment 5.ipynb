{
 "cells": [
  {
   "cell_type": "markdown",
   "id": "15a53048",
   "metadata": {},
   "source": [
    "Step 1: Download the F&O Bhavcopy file from the following Link using a date Range option using your code: https://www1.nseindia.com/products/content/derivatives/equities/archieve_fo.htm\n",
    "\n",
    "Step 2: The program should ask the user to input a date range( Start and End date) : Once the date input is taken from the user, the program will run and download the bhavcopies for all the dates in the chosen date range.\n",
    "\n",
    "The files should all be downloaded in one common folder labelled: \"BHAVCOPIES\": On  your Desktop\n",
    "\n",
    "Step 3: Finally all the saved files should be combined into one final CSV file\n",
    "\n",
    "Step 4: Once the file has been combined, We would like the following things:\n",
    "            a. Take a user Input to enter a symbol name along with start date and end date\n",
    "            b. Display Following Statistics for that symbol : 1. (Open(start date) - Close(end date))  2. Max Open Interest \n",
    "3.Average Open Interest 4. % Change in relation to previous day( Close - Previous Day Close)          \n",
    "\n",
    "Important:\n",
    "1. Since these bhavcopy files are zipped, the program will have to automatically unzip and save each file individually"
   ]
  },
  {
   "cell_type": "code",
   "execution_count": 55,
   "id": "0ae07e83",
   "metadata": {},
   "outputs": [
    {
     "name": "stdout",
     "output_type": "stream",
     "text": [
      "Enter Start Date (in DD-MM-YYYY) 01-06-2022\n",
      "Enter End Date (in DD-MM-YYYY) 08-06-2022\n",
      "Start Month is Jun\n",
      "End Month is Jun\n",
      "2022-06-01\n",
      "https://www1.nseindia.com/content/historical/DERIVATIVES/2022/JUN/fo01Jun2022bhav.csv.zip\n",
      "2022-06-02\n",
      "https://www1.nseindia.com/content/historical/DERIVATIVES/2022/JUN/fo02Jun2022bhav.csv.zip\n",
      "2022-06-03\n",
      "https://www1.nseindia.com/content/historical/DERIVATIVES/2022/JUN/fo03Jun2022bhav.csv.zip\n",
      "2022-06-06\n",
      "https://www1.nseindia.com/content/historical/DERIVATIVES/2022/JUN/fo06Jun2022bhav.csv.zip\n",
      "2022-06-07\n",
      "https://www1.nseindia.com/content/historical/DERIVATIVES/2022/JUN/fo07Jun2022bhav.csv.zip\n",
      "2022-06-08\n",
      "https://www1.nseindia.com/content/historical/DERIVATIVES/2022/JUN/fo08Jun2022bhav.csv.zip\n"
     ]
    }
   ],
   "source": [
    "import urllib.request\n",
    "import datetime \n",
    "import pandas as pd\n",
    "start_date=input('Enter Start Date (in DD-MM-YYYY) ')\n",
    "end_date=input('Enter End Date (in DD-MM-YYYY) ')\n",
    "start_date1 = datetime.datetime.strptime(start_date,\"%d-%m-%Y\").date()\n",
    "end_date1 = datetime.datetime.strptime(end_date,\"%d-%m-%Y\").date()\n",
    "diff=end_date1-start_date1\n",
    "delta = datetime.timedelta(days=1)\n",
    "while(start_date1<=end_date1):\n",
    "    if(start_date1.weekday()<5):\n",
    "        print(start_date1)\n",
    "        link = r'https://www1.nseindia.com/content/historical/DERIVATIVES/'+start_date1.strftime(\"%Y\")+'/'+start_date1.strftime(\"%b\").upper()+'/fo'+start_date1.strftime(\"%d%b%Y\")+'bhav.csv.zip'\n",
    "        print(link)\n",
    "        start_date1+=delta\n",
    "    else:\n",
    "        start_date1+=delta\n",
    "\n",
    "#print(\"Start Day is \"+start_month.strftime('%d'))\n",
    "#print(diff.days)\n",
    "#df = pd.read_csv(link)\n",
    "#display(df)\n"
   ]
  },
  {
   "cell_type": "code",
   "execution_count": null,
   "id": "1a18c6fb",
   "metadata": {},
   "outputs": [],
   "source": []
  }
 ],
 "metadata": {
  "kernelspec": {
   "display_name": "Python 3 (ipykernel)",
   "language": "python",
   "name": "python3"
  },
  "language_info": {
   "codemirror_mode": {
    "name": "ipython",
    "version": 3
   },
   "file_extension": ".py",
   "mimetype": "text/x-python",
   "name": "python",
   "nbconvert_exporter": "python",
   "pygments_lexer": "ipython3",
   "version": "3.9.12"
  }
 },
 "nbformat": 4,
 "nbformat_minor": 5
}
