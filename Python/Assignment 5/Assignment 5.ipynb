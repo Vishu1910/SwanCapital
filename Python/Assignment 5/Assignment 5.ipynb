{
 "cells": [
  {
   "cell_type": "markdown",
   "id": "15a53048",
   "metadata": {},
   "source": [
    "Step 1: Download the F&O Bhavcopy file from the following Link using a date Range option using your code: https://www1.nseindia.com/products/content/derivatives/equities/archieve_fo.htm\n",
    "\n",
    "Step 2: The program should ask the user to input a date range( Start and End date) : Once the date input is taken from the user, the program will run and download the bhavcopies for all the dates in the chosen date range.\n",
    "\n",
    "The files should all be downloaded in one common folder labelled: \"BHAVCOPIES\": On  your Desktop\n",
    "\n",
    "Step 3: Finally all the saved files should be combined into one final CSV file\n",
    "\n",
    "Step 4: Once the file has been combined, We would like the following things:\n",
    "            a. Take a user Input to enter a symbol name along with start date and end date\n",
    "            b. Display Following Statistics for that symbol : 1. (Open(start date) - Close(end date))  2. Max Open Interest \n",
    "3.Average Open Interest 4. % Change in relation to previous day( Close - Previous Day Close)          \n",
    "\n",
    "Important:\n",
    "1. Since these bhavcopy files are zipped, the program will have to automatically unzip and save each file individually"
   ]
  },
  {
   "cell_type": "code",
   "execution_count": 53,
   "id": "0ae07e83",
   "metadata": {},
   "outputs": [
    {
     "name": "stdout",
     "output_type": "stream",
     "text": [
      "Enter Start Date (in DD-MM-YYYY) 06-06-2022\n",
      "Enter End Date (in DD-MM-YYYY) 10-06-2022\n",
      "fo06JUN2022bhav.csv.zip\n",
      "fo07JUN2022bhav.csv.zip\n",
      "fo08JUN2022bhav.csv.zip\n",
      "fo09JUN2022bhav.csv.zip\n",
      "fo10JUN2022bhav.csv.zip\n"
     ]
    }
   ],
   "source": [
    "import requests\n",
    "import datetime \n",
    "from zipfile import ZipFile\n",
    "import pandas as pd\n",
    "import os\n",
    "import glob\n",
    "\n",
    "\n",
    "extension='csv'\n",
    "\n",
    "start_date=input('Enter Start Date (in DD-MM-YYYY) ')\n",
    "end_date=input('Enter End Date (in DD-MM-YYYY) ')\n",
    "start_date1 = datetime.datetime.strptime(start_date,\"%d-%m-%Y\").date()\n",
    "end_date1 = datetime.datetime.strptime(end_date,\"%d-%m-%Y\").date()\n",
    "diff=end_date1-start_date1\n",
    "delta = datetime.timedelta(days=1)\n",
    "path=r'C:\\Users\\admin\\Desktop\\Bhavcopies'\n",
    "while(start_date1<=end_date1):\n",
    "    if(start_date1.weekday()<5):\n",
    "        #print(start_date1)\n",
    "        url = r'https://www1.nseindia.com/content/historical/DERIVATIVES/'+start_date1.strftime(\"%Y\")+'/'+start_date1.strftime(\"%b\").upper()+'/fo'+start_date1.strftime(\"%d%b%Y\").upper()+'bhav.csv.zip'\n",
    "        #print(url)\n",
    "        req=requests.get(url)\n",
    "        filename=url.split('/')[-1]\n",
    "        print(filename)\n",
    "        with open(path+'/'+filename,'wb') as output_file:\n",
    "            output_file.write(req.content)\n",
    "        with ZipFile(path+'/'+filename,\"r\") as zip_ref:\n",
    "            zip_ref.extractall()\n",
    "        start_date1+=delta\n",
    "    else:\n",
    "        start_date1+=delta\n",
    "\n",
    "files = [i for i in glob.glob('*.{}'.format(extension))]\n",
    "combined_csv=pd.concat([pd.read_csv(f) for f in files])\n",
    "combined_csv.to_csv(\"Combined.csv\",index=False)\n",
    "\n",
    "\n",
    "#print(\"Start Day is \"+start_month.strftime('%d'))\n",
    "#print(diff.days)\n",
    "#df = pd.read_csv(link)\n",
    "#display(df)\n"
   ]
  },
  {
   "cell_type": "code",
   "execution_count": 54,
   "id": "f0d3e3b4",
   "metadata": {},
   "outputs": [],
   "source": [
    "import warnings\n",
    "warnings.simplefilter(action='ignore',category=FutureWarning)\n",
    "df = pd.read_csv(r'Combined.csv')\n",
    "#display(df)\n"
   ]
  },
  {
   "cell_type": "code",
   "execution_count": 62,
   "id": "1a18c6fb",
   "metadata": {},
   "outputs": [
    {
     "name": "stdout",
     "output_type": "stream",
     "text": [
      "Enter Symbol BANKNIFTY\n",
      "Enter Instrument OPTIDX\n",
      "Enter Expiry 09-06-2022\n",
      "Enter Strike Price 29100\n",
      "Enter Option Type (XX/CE/PE) CE\n",
      "Enter Start Date 06-06-2022\n",
      "Enter End Date 07-06-2022\n",
      "6177.4\n",
      "5853.4\n"
     ]
    }
   ],
   "source": [
    "symbol = input('Enter Symbol ')\n",
    "ins = input('Enter Instrument ')\n",
    "expiry = input('Enter Expiry ')\n",
    "if(ins!=\"FUTIDX\"):\n",
    "    strike = float(input('Enter Strike Price '))\n",
    "    option = input('Enter Option Type (XX/CE/PE) ')\n",
    "start=input('Enter Start Date ')\n",
    "end=input('Enter End Date ')\n",
    "start = datetime.datetime.strptime(start,\"%d-%m-%Y\").date()\n",
    "end = datetime.datetime.strptime(end,\"%d-%m-%Y\").date()\n",
    "expiry=datetime.datetime.strptime(expiry,\"%d-%m-%Y\").date()\n",
    "df['EXPIRY_DT']=pd.to_datetime(df['EXPIRY_DT'])\n",
    "df['Date']=pd.to_datetime(df['TIMESTAMP'])\n",
    "#print(df['Date'])\n",
    "\n",
    "for i,j in df.iterrows():\n",
    "    if(df.loc[i,'SYMBOL']==symbol):\n",
    "        if(df.loc[i,'INSTRUMENT']==ins):\n",
    "            if(df.loc[i,'EXPIRY_DT']==expiry):\n",
    "                if(df.loc[i,'STRIKE_PR']==strike):\n",
    "                    if(df.loc[i,'OPTION_TYP']==option):\n",
    "                        if(df.loc[i,'Date']==start):\n",
    "                            print(df.loc[i,'OPEN'])\n",
    "                        if(df.loc[i,'Date']==end):\n",
    "                            print(df.loc[i,'CLOSE'])\n",
    "                        "
   ]
  },
  {
   "cell_type": "code",
   "execution_count": null,
   "id": "74a2b4cc",
   "metadata": {},
   "outputs": [],
   "source": []
  }
 ],
 "metadata": {
  "kernelspec": {
   "display_name": "Python 3 (ipykernel)",
   "language": "python",
   "name": "python3"
  },
  "language_info": {
   "codemirror_mode": {
    "name": "ipython",
    "version": 3
   },
   "file_extension": ".py",
   "mimetype": "text/x-python",
   "name": "python",
   "nbconvert_exporter": "python",
   "pygments_lexer": "ipython3",
   "version": "3.9.12"
  }
 },
 "nbformat": 4,
 "nbformat_minor": 5
}
