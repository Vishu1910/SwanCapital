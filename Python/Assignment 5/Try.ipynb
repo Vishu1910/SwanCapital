{
 "cells": [
  {
   "cell_type": "code",
   "execution_count": 20,
   "id": "13dca55b",
   "metadata": {},
   "outputs": [
    {
     "name": "stdout",
     "output_type": "stream",
     "text": [
      "Enter Start Date (in DD-MM-YYYY) 10-06-2022\n"
     ]
    },
    {
     "data": {
      "text/plain": [
       "261"
      ]
     },
     "execution_count": 20,
     "metadata": {},
     "output_type": "execute_result"
    }
   ],
   "source": [
    "import requests\n",
    "start_date=input('Enter Start Date (in DD-MM-YYYY) ')\n",
    "start_date1 = datetime.datetime.strptime(start_date,\"%d-%m-%Y\").date()\n",
    "url = r'https://www1.nseindia.com/content/historical/DERIVATIVES/'+start_date1.strftime(\"%Y\")+'/'+start_date1.strftime(\"%b\").upper()+'/fo'+start_date1.strftime(\"%d%b%Y\")+'bhav.csv.zip'\n",
    "output = r'D:\\Bhavcopies'+start_date1.strftime(\"%d%b\")+'bhav.csv'\n",
    "r=requests.get(url,allow_redirects=True)\n",
    "open(output,'wb').write(r.content)\n",
    "    #f.write(r.content)"
   ]
  },
  {
   "cell_type": "code",
   "execution_count": null,
   "id": "e1c3b13c",
   "metadata": {},
   "outputs": [],
   "source": []
  }
 ],
 "metadata": {
  "kernelspec": {
   "display_name": "Python 3 (ipykernel)",
   "language": "python",
   "name": "python3"
  },
  "language_info": {
   "codemirror_mode": {
    "name": "ipython",
    "version": 3
   },
   "file_extension": ".py",
   "mimetype": "text/x-python",
   "name": "python",
   "nbconvert_exporter": "python",
   "pygments_lexer": "ipython3",
   "version": "3.9.12"
  }
 },
 "nbformat": 4,
 "nbformat_minor": 5
}
