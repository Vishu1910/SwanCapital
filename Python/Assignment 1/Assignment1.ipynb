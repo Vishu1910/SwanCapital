{
 "cells": [
  {
   "cell_type": "code",
   "execution_count": 140,
   "id": "f63ebb70",
   "metadata": {},
   "outputs": [],
   "source": [
    "import pandas as pd\n",
    "Input = r'C:\\Users\\admin\\Desktop\\Dmart.csv'\n",
    "df = pd.read_csv(Input)"
   ]
  },
  {
   "cell_type": "markdown",
   "id": "cc50db5f",
   "metadata": {},
   "source": [
    "Here, the input path for the csv file will be different."
   ]
  },
  {
   "cell_type": "code",
   "execution_count": 141,
   "id": "bef59b7b",
   "metadata": {},
   "outputs": [],
   "source": [
    "df = pd.read_csv(r'C:\\Users\\admin\\Desktop\\Dmart.csv')"
   ]
  },
  {
   "cell_type": "code",
   "execution_count": 142,
   "id": "bff2f257",
   "metadata": {},
   "outputs": [],
   "source": [
    "#print(df)"
   ]
  },
  {
   "cell_type": "code",
   "execution_count": 143,
   "id": "7ee7fae9",
   "metadata": {},
   "outputs": [],
   "source": [
    "df['ROC']=((df['Close']-df['Open'])/df['Close'])*100"
   ]
  },
  {
   "cell_type": "code",
   "execution_count": 144,
   "id": "070ee141",
   "metadata": {},
   "outputs": [],
   "source": [
    "#print(df)"
   ]
  },
  {
   "cell_type": "code",
   "execution_count": 145,
   "id": "c4f979f0",
   "metadata": {},
   "outputs": [],
   "source": [
    "#print(df['ROC'].sum(axis=0))"
   ]
  },
  {
   "cell_type": "code",
   "execution_count": 146,
   "id": "87a7ff5a",
   "metadata": {},
   "outputs": [],
   "source": [
    "#display(df)"
   ]
  },
  {
   "cell_type": "code",
   "execution_count": 147,
   "id": "05d74043",
   "metadata": {},
   "outputs": [],
   "source": [
    "df.loc[df['ROC']<=0,'Type Of Trade']='0'\n",
    "df.loc[df['ROC']>0,'Type Of Trade']='1'"
   ]
  },
  {
   "cell_type": "code",
   "execution_count": 148,
   "id": "d363836a",
   "metadata": {},
   "outputs": [],
   "source": [
    "#display(df)"
   ]
  },
  {
   "cell_type": "code",
   "execution_count": 149,
   "id": "602f3368",
   "metadata": {},
   "outputs": [],
   "source": [
    "#df.loc[df['Type Of Trade'] == \"1\", 'Type Of Trade'].count()"
   ]
  },
  {
   "cell_type": "code",
   "execution_count": 150,
   "id": "89c573ec",
   "metadata": {},
   "outputs": [],
   "source": [
    "#df.loc[df['Type Of Trade'] == \"0\", 'Type Of Trade'].count()"
   ]
  },
  {
   "cell_type": "code",
   "execution_count": 151,
   "id": "9182e0a9",
   "metadata": {},
   "outputs": [
    {
     "data": {
      "text/html": [
       "<div>\n",
       "<style scoped>\n",
       "    .dataframe tbody tr th:only-of-type {\n",
       "        vertical-align: middle;\n",
       "    }\n",
       "\n",
       "    .dataframe tbody tr th {\n",
       "        vertical-align: top;\n",
       "    }\n",
       "\n",
       "    .dataframe thead th {\n",
       "        text-align: right;\n",
       "    }\n",
       "</style>\n",
       "<table border=\"1\" class=\"dataframe\">\n",
       "  <thead>\n",
       "    <tr style=\"text-align: right;\">\n",
       "      <th></th>\n",
       "      <th>Ticker</th>\n",
       "      <th>Date/Time</th>\n",
       "      <th>Open</th>\n",
       "      <th>Low</th>\n",
       "      <th>High</th>\n",
       "      <th>Close</th>\n",
       "      <th>ROC</th>\n",
       "      <th>Type Of Trade</th>\n",
       "    </tr>\n",
       "  </thead>\n",
       "  <tbody>\n",
       "    <tr>\n",
       "      <th>0</th>\n",
       "      <td>DMART.EQ-NSE</td>\n",
       "      <td>1/1/20</td>\n",
       "      <td>1849.70</td>\n",
       "      <td>1820.00</td>\n",
       "      <td>1867.00</td>\n",
       "      <td>1828.50</td>\n",
       "      <td>-1.159420</td>\n",
       "      <td>0</td>\n",
       "    </tr>\n",
       "    <tr>\n",
       "      <th>1</th>\n",
       "      <td>DMART.EQ-NSE</td>\n",
       "      <td>1/2/20</td>\n",
       "      <td>1831.00</td>\n",
       "      <td>1815.00</td>\n",
       "      <td>1854.85</td>\n",
       "      <td>1824.20</td>\n",
       "      <td>-0.372766</td>\n",
       "      <td>0</td>\n",
       "    </tr>\n",
       "    <tr>\n",
       "      <th>2</th>\n",
       "      <td>DMART.EQ-NSE</td>\n",
       "      <td>1/3/20</td>\n",
       "      <td>1827.00</td>\n",
       "      <td>1827.00</td>\n",
       "      <td>1853.00</td>\n",
       "      <td>1843.55</td>\n",
       "      <td>0.897724</td>\n",
       "      <td>1</td>\n",
       "    </tr>\n",
       "    <tr>\n",
       "      <th>3</th>\n",
       "      <td>DMART.EQ-NSE</td>\n",
       "      <td>1/6/20</td>\n",
       "      <td>1827.00</td>\n",
       "      <td>1780.00</td>\n",
       "      <td>1829.00</td>\n",
       "      <td>1789.90</td>\n",
       "      <td>-2.072741</td>\n",
       "      <td>0</td>\n",
       "    </tr>\n",
       "    <tr>\n",
       "      <th>4</th>\n",
       "      <td>DMART.EQ-NSE</td>\n",
       "      <td>1/7/20</td>\n",
       "      <td>1805.00</td>\n",
       "      <td>1805.00</td>\n",
       "      <td>1837.50</td>\n",
       "      <td>1815.75</td>\n",
       "      <td>0.592042</td>\n",
       "      <td>1</td>\n",
       "    </tr>\n",
       "    <tr>\n",
       "      <th>...</th>\n",
       "      <td>...</td>\n",
       "      <td>...</td>\n",
       "      <td>...</td>\n",
       "      <td>...</td>\n",
       "      <td>...</td>\n",
       "      <td>...</td>\n",
       "      <td>...</td>\n",
       "      <td>...</td>\n",
       "    </tr>\n",
       "    <tr>\n",
       "      <th>247</th>\n",
       "      <td>DMART.EQ-NSE</td>\n",
       "      <td>12/24/2020</td>\n",
       "      <td>2661.85</td>\n",
       "      <td>2604.80</td>\n",
       "      <td>2700.00</td>\n",
       "      <td>2673.10</td>\n",
       "      <td>0.420860</td>\n",
       "      <td>1</td>\n",
       "    </tr>\n",
       "    <tr>\n",
       "      <th>248</th>\n",
       "      <td>DMART.EQ-NSE</td>\n",
       "      <td>12/28/2020</td>\n",
       "      <td>2685.95</td>\n",
       "      <td>2655.00</td>\n",
       "      <td>2698.95</td>\n",
       "      <td>2678.00</td>\n",
       "      <td>-0.296863</td>\n",
       "      <td>0</td>\n",
       "    </tr>\n",
       "    <tr>\n",
       "      <th>249</th>\n",
       "      <td>DMART.EQ-NSE</td>\n",
       "      <td>12/29/2020</td>\n",
       "      <td>2690.00</td>\n",
       "      <td>2645.00</td>\n",
       "      <td>2694.70</td>\n",
       "      <td>2665.70</td>\n",
       "      <td>-0.911580</td>\n",
       "      <td>0</td>\n",
       "    </tr>\n",
       "    <tr>\n",
       "      <th>250</th>\n",
       "      <td>DMART.EQ-NSE</td>\n",
       "      <td>12/30/2020</td>\n",
       "      <td>2666.20</td>\n",
       "      <td>2642.35</td>\n",
       "      <td>2725.00</td>\n",
       "      <td>2680.30</td>\n",
       "      <td>0.526061</td>\n",
       "      <td>1</td>\n",
       "    </tr>\n",
       "    <tr>\n",
       "      <th>251</th>\n",
       "      <td>DMART.EQ-NSE</td>\n",
       "      <td>12/31/2020</td>\n",
       "      <td>2691.00</td>\n",
       "      <td>2670.00</td>\n",
       "      <td>2780.00</td>\n",
       "      <td>2763.60</td>\n",
       "      <td>2.627008</td>\n",
       "      <td>1</td>\n",
       "    </tr>\n",
       "  </tbody>\n",
       "</table>\n",
       "<p>252 rows × 8 columns</p>\n",
       "</div>"
      ],
      "text/plain": [
       "           Ticker   Date/Time     Open      Low     High    Close       ROC  \\\n",
       "0    DMART.EQ-NSE      1/1/20  1849.70  1820.00  1867.00  1828.50 -1.159420   \n",
       "1    DMART.EQ-NSE      1/2/20  1831.00  1815.00  1854.85  1824.20 -0.372766   \n",
       "2    DMART.EQ-NSE      1/3/20  1827.00  1827.00  1853.00  1843.55  0.897724   \n",
       "3    DMART.EQ-NSE      1/6/20  1827.00  1780.00  1829.00  1789.90 -2.072741   \n",
       "4    DMART.EQ-NSE      1/7/20  1805.00  1805.00  1837.50  1815.75  0.592042   \n",
       "..            ...         ...      ...      ...      ...      ...       ...   \n",
       "247  DMART.EQ-NSE  12/24/2020  2661.85  2604.80  2700.00  2673.10  0.420860   \n",
       "248  DMART.EQ-NSE  12/28/2020  2685.95  2655.00  2698.95  2678.00 -0.296863   \n",
       "249  DMART.EQ-NSE  12/29/2020  2690.00  2645.00  2694.70  2665.70 -0.911580   \n",
       "250  DMART.EQ-NSE  12/30/2020  2666.20  2642.35  2725.00  2680.30  0.526061   \n",
       "251  DMART.EQ-NSE  12/31/2020  2691.00  2670.00  2780.00  2763.60  2.627008   \n",
       "\n",
       "    Type Of Trade  \n",
       "0               0  \n",
       "1               0  \n",
       "2               1  \n",
       "3               0  \n",
       "4               1  \n",
       "..            ...  \n",
       "247             1  \n",
       "248             0  \n",
       "249             0  \n",
       "250             1  \n",
       "251             1  \n",
       "\n",
       "[252 rows x 8 columns]"
      ]
     },
     "metadata": {},
     "output_type": "display_data"
    },
    {
     "name": "stdout",
     "output_type": "stream",
     "text": [
      "Total ROC combined is 26.80441118358856\n",
      "Number of winners 120\n",
      "Number of losers 132\n"
     ]
    }
   ],
   "source": [
    "display(df)\n",
    "print(\"Total ROC combined is\",df['ROC'].sum(axis=0))\n",
    "print(\"Number of winners\",df.loc[df['Type Of Trade'] == \"1\", 'Type Of Trade'].count())\n",
    "print(\"Number of losers\",df.loc[df['Type Of Trade'] == \"0\", 'Type Of Trade'].count())"
   ]
  },
  {
   "cell_type": "code",
   "execution_count": 152,
   "id": "8b4c37e3",
   "metadata": {},
   "outputs": [],
   "source": [
    "df.to_csv(r'C:\\Users\\admin\\Desktop\\Dmart_Assignment1.csv',index=False)"
   ]
  }
 ],
 "metadata": {
  "kernelspec": {
   "display_name": "Python 3 (ipykernel)",
   "language": "python",
   "name": "python3"
  },
  "language_info": {
   "codemirror_mode": {
    "name": "ipython",
    "version": 3
   },
   "file_extension": ".py",
   "mimetype": "text/x-python",
   "name": "python",
   "nbconvert_exporter": "python",
   "pygments_lexer": "ipython3",
   "version": "3.9.12"
  }
 },
 "nbformat": 4,
 "nbformat_minor": 5
}
