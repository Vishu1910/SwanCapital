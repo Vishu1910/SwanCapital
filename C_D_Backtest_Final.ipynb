{
 "cells": [
  {
   "cell_type": "code",
   "execution_count": 194,
   "id": "6548c250",
   "metadata": {},
   "outputs": [],
   "source": [
    "import requests\n",
    "import datetime \n",
    "from zipfile import ZipFile\n",
    "import pandas as pd\n",
    "import os\n",
    "import glob\n",
    "from pathlib import Path\n",
    "from datetime import date\n",
    "import warnings\n",
    "warnings.simplefilter(action='ignore',category=FutureWarning)"
   ]
  },
  {
   "cell_type": "code",
   "execution_count": 9,
   "id": "379432bd",
   "metadata": {},
   "outputs": [
    {
     "name": "stdout",
     "output_type": "stream",
     "text": [
      "https://www1.nseindia.com/content/historical/DERIVATIVES/2022/APR/fo28APR2022bhav.csv.zip\n",
      "https://www1.nseindia.com/content/historical/DERIVATIVES/2022/APR/fo27APR2022bhav.csv.zip\n",
      "https://www1.nseindia.com/content/historical/DERIVATIVES/2022/APR/fo26APR2022bhav.csv.zip\n",
      "https://www1.nseindia.com/content/historical/DERIVATIVES/2022/APR/fo25APR2022bhav.csv.zip\n",
      "https://www1.nseindia.com/content/historical/DERIVATIVES/2022/APR/fo24APR2022bhav.csv.zip\n",
      "https://www1.nseindia.com/content/historical/DERIVATIVES/2022/APR/fo23APR2022bhav.csv.zip\n",
      "https://www1.nseindia.com/content/historical/DERIVATIVES/2022/APR/fo22APR2022bhav.csv.zip\n",
      "https://www1.nseindia.com/content/historical/DERIVATIVES/2022/APR/fo21APR2022bhav.csv.zip\n",
      "https://www1.nseindia.com/content/historical/DERIVATIVES/2022/APR/fo20APR2022bhav.csv.zip\n",
      "https://www1.nseindia.com/content/historical/DERIVATIVES/2022/APR/fo19APR2022bhav.csv.zip\n",
      "https://www1.nseindia.com/content/historical/DERIVATIVES/2022/APR/fo18APR2022bhav.csv.zip\n",
      "https://www1.nseindia.com/content/historical/DERIVATIVES/2022/APR/fo17APR2022bhav.csv.zip\n",
      "https://www1.nseindia.com/content/historical/DERIVATIVES/2022/APR/fo16APR2022bhav.csv.zip\n",
      "https://www1.nseindia.com/content/historical/DERIVATIVES/2022/APR/fo15APR2022bhav.csv.zip\n",
      "https://www1.nseindia.com/content/historical/DERIVATIVES/2022/APR/fo14APR2022bhav.csv.zip\n",
      "https://www1.nseindia.com/content/historical/DERIVATIVES/2022/APR/fo13APR2022bhav.csv.zip\n",
      "https://www1.nseindia.com/content/historical/DERIVATIVES/2022/APR/fo12APR2022bhav.csv.zip\n",
      "https://www1.nseindia.com/content/historical/DERIVATIVES/2022/APR/fo11APR2022bhav.csv.zip\n",
      "https://www1.nseindia.com/content/historical/DERIVATIVES/2022/APR/fo10APR2022bhav.csv.zip\n",
      "https://www1.nseindia.com/content/historical/DERIVATIVES/2022/APR/fo09APR2022bhav.csv.zip\n",
      "https://www1.nseindia.com/content/historical/DERIVATIVES/2022/APR/fo08APR2022bhav.csv.zip\n",
      "https://www1.nseindia.com/content/historical/DERIVATIVES/2022/APR/fo07APR2022bhav.csv.zip\n",
      "https://www1.nseindia.com/content/historical/DERIVATIVES/2022/APR/fo06APR2022bhav.csv.zip\n",
      "https://www1.nseindia.com/content/historical/DERIVATIVES/2022/APR/fo05APR2022bhav.csv.zip\n",
      "https://www1.nseindia.com/content/historical/DERIVATIVES/2022/APR/fo04APR2022bhav.csv.zip\n",
      "https://www1.nseindia.com/content/historical/DERIVATIVES/2022/APR/fo03APR2022bhav.csv.zip\n",
      "https://www1.nseindia.com/content/historical/DERIVATIVES/2022/APR/fo02APR2022bhav.csv.zip\n",
      "https://www1.nseindia.com/content/historical/DERIVATIVES/2022/APR/fo01APR2022bhav.csv.zip\n",
      "https://www1.nseindia.com/content/historical/DERIVATIVES/2022/MAR/fo31MAR2022bhav.csv.zip\n",
      "https://www1.nseindia.com/content/historical/DERIVATIVES/2022/MAR/fo30MAR2022bhav.csv.zip\n"
     ]
    }
   ],
   "source": [
    "extension = 'csv'\n",
    "end='28-04-2022'\n",
    "end=datetime.datetime.strptime(end,\"%d-%m-%Y\").date()\n",
    "delta = datetime.timedelta(days=1)\n",
    "i=0\n",
    "path = r'C:\\Users\\admin\\Desktop\\C_D'\n",
    "while(i<30):\n",
    "    try:\n",
    "        url = r'https://www1.nseindia.com/content/historical/DERIVATIVES/'+end.strftime(\"%Y\")+'/'+end.strftime(\"%b\").upper()+'/fo'+end.strftime(\"%d%b%Y\").upper()+'bhav.csv.zip'\n",
    "        print(url)\n",
    "        req=requests.get(url)\n",
    "        filename=url.split('/')[-1]\n",
    "        with open(path+'/'+filename,'wb') as output_file:\n",
    "            output_file.write(req.content)\n",
    "        with ZipFile(path+'/'+filename,'r') as zip_ref:\n",
    "            zip_ref.extractall(path)\n",
    "    except:\n",
    "        pass\n",
    "    end-=delta\n",
    "    i+=1"
   ]
  },
  {
   "cell_type": "code",
   "execution_count": 10,
   "id": "2d281724",
   "metadata": {},
   "outputs": [],
   "source": [
    "path=Path(r'C:\\Users\\admin\\Desktop\\C_D')\n",
    "files = [i for i in path.glob('*.{}'.format(extension))]\n",
    "combined_csv=pd.concat([pd.read_csv(f) for f in files])\n",
    "combined_csv.to_csv(\"C_D.csv\",index=False)"
   ]
  },
  {
   "cell_type": "code",
   "execution_count": 185,
   "id": "8bec8fda",
   "metadata": {},
   "outputs": [],
   "source": [
    "df = pd.read_csv(r'C:\\Users\\admin\\Desktop\\Python\\C_D.csv')"
   ]
  },
  {
   "cell_type": "code",
   "execution_count": 195,
   "id": "c5f7910e",
   "metadata": {},
   "outputs": [
    {
     "name": "stderr",
     "output_type": "stream",
     "text": [
      "C:\\Users\\admin\\AppData\\Local\\Temp\\ipykernel_11216\\3162296920.py:2: SettingWithCopyWarning: \n",
      "A value is trying to be set on a copy of a slice from a DataFrame.\n",
      "Try using .loc[row_indexer,col_indexer] = value instead\n",
      "\n",
      "See the caveats in the documentation: https://pandas.pydata.org/pandas-docs/stable/user_guide/indexing.html#returning-a-view-versus-a-copy\n",
      "  c_d['TIMESTAMP'] = pd.to_datetime(c_d['TIMESTAMP'])\n"
     ]
    }
   ],
   "source": [
    "c_d = df[(df['OPTION_TYP']=='CE') & (df['EXPIRY_DT']=='28-Apr-2022') & (df['INSTRUMENT']=='OPTSTK')]\n",
    "c_d['TIMESTAMP'] = pd.to_datetime(c_d['TIMESTAMP']) \n",
    "c_d = c_d.sort_values(by='TIMESTAMP')\n",
    "c_d.reset_index(inplace=True,drop=True)"
   ]
  },
  {
   "cell_type": "code",
   "execution_count": 187,
   "id": "8acab118",
   "metadata": {},
   "outputs": [],
   "source": [
    "#display(c_d)"
   ]
  },
  {
   "cell_type": "code",
   "execution_count": 188,
   "id": "e4395b89",
   "metadata": {},
   "outputs": [],
   "source": [
    "c_d['TotalContracts']=c_d.groupby('SYMBOL')['CONTRACTS'].transform('sum')\n",
    "#display(c_d)"
   ]
  },
  {
   "cell_type": "code",
   "execution_count": 189,
   "id": "04818346",
   "metadata": {},
   "outputs": [],
   "source": [
    "c_d=c_d.sort_values(by='TotalContracts',ascending=False)\n",
    "c_d.reset_index(inplace=True,drop=True)"
   ]
  },
  {
   "cell_type": "code",
   "execution_count": 190,
   "id": "39cd6838",
   "metadata": {},
   "outputs": [],
   "source": [
    "#display(c_d)"
   ]
  },
  {
   "cell_type": "code",
   "execution_count": 196,
   "id": "b043919e",
   "metadata": {},
   "outputs": [
    {
     "data": {
      "text/html": [
       "<div>\n",
       "<style scoped>\n",
       "    .dataframe tbody tr th:only-of-type {\n",
       "        vertical-align: middle;\n",
       "    }\n",
       "\n",
       "    .dataframe tbody tr th {\n",
       "        vertical-align: top;\n",
       "    }\n",
       "\n",
       "    .dataframe thead th {\n",
       "        text-align: right;\n",
       "    }\n",
       "</style>\n",
       "<table border=\"1\" class=\"dataframe\">\n",
       "  <thead>\n",
       "    <tr style=\"text-align: right;\">\n",
       "      <th></th>\n",
       "      <th>SYMBOL</th>\n",
       "      <th>CONTRACTS</th>\n",
       "    </tr>\n",
       "  </thead>\n",
       "  <tbody>\n",
       "    <tr>\n",
       "      <th>0</th>\n",
       "      <td>RELIANCE</td>\n",
       "      <td>3324607</td>\n",
       "    </tr>\n",
       "    <tr>\n",
       "      <th>1</th>\n",
       "      <td>HDFCBANK</td>\n",
       "      <td>2607246</td>\n",
       "    </tr>\n",
       "    <tr>\n",
       "      <th>2</th>\n",
       "      <td>INFY</td>\n",
       "      <td>1684242</td>\n",
       "    </tr>\n",
       "    <tr>\n",
       "      <th>3</th>\n",
       "      <td>TCS</td>\n",
       "      <td>1528151</td>\n",
       "    </tr>\n",
       "    <tr>\n",
       "      <th>4</th>\n",
       "      <td>HDFC</td>\n",
       "      <td>1362500</td>\n",
       "    </tr>\n",
       "    <tr>\n",
       "      <th>...</th>\n",
       "      <td>...</td>\n",
       "      <td>...</td>\n",
       "    </tr>\n",
       "    <tr>\n",
       "      <th>194</th>\n",
       "      <td>ATUL</td>\n",
       "      <td>2994</td>\n",
       "    </tr>\n",
       "    <tr>\n",
       "      <th>195</th>\n",
       "      <td>ABB</td>\n",
       "      <td>2792</td>\n",
       "    </tr>\n",
       "    <tr>\n",
       "      <th>196</th>\n",
       "      <td>PFIZER</td>\n",
       "      <td>1991</td>\n",
       "    </tr>\n",
       "    <tr>\n",
       "      <th>197</th>\n",
       "      <td>PAGEIND</td>\n",
       "      <td>1844</td>\n",
       "    </tr>\n",
       "    <tr>\n",
       "      <th>198</th>\n",
       "      <td>HONAUT</td>\n",
       "      <td>468</td>\n",
       "    </tr>\n",
       "  </tbody>\n",
       "</table>\n",
       "<p>199 rows × 2 columns</p>\n",
       "</div>"
      ],
      "text/plain": [
       "       SYMBOL  CONTRACTS\n",
       "0    RELIANCE    3324607\n",
       "1    HDFCBANK    2607246\n",
       "2        INFY    1684242\n",
       "3         TCS    1528151\n",
       "4        HDFC    1362500\n",
       "..        ...        ...\n",
       "194      ATUL       2994\n",
       "195       ABB       2792\n",
       "196    PFIZER       1991\n",
       "197   PAGEIND       1844\n",
       "198    HONAUT        468\n",
       "\n",
       "[199 rows x 2 columns]"
      ]
     },
     "metadata": {},
     "output_type": "display_data"
    }
   ],
   "source": [
    "c_d1=c_d.groupby('SYMBOL')['CONTRACTS'].sum()\n",
    "c_d1 = c_d1.to_frame().reset_index()\n",
    "c_d1=c_d1.sort_values(by='CONTRACTS',ascending=False)\n",
    "c_d1.reset_index(inplace=True,drop=True)\n",
    "display(c_d1)\n",
    "#c_d1.info()\n",
    "c_d1.to_csv(r'C:\\Users\\admin\\Desktop\\test.csv')"
   ]
  },
  {
   "cell_type": "code",
   "execution_count": 193,
   "id": "df5fd99b",
   "metadata": {},
   "outputs": [
    {
     "data": {
      "text/plain": [
       "'RELIANCE'"
      ]
     },
     "metadata": {},
     "output_type": "display_data"
    },
    {
     "data": {
      "text/plain": [
       "'HDFCBANK'"
      ]
     },
     "metadata": {},
     "output_type": "display_data"
    },
    {
     "data": {
      "text/plain": [
       "'INFY'"
      ]
     },
     "metadata": {},
     "output_type": "display_data"
    },
    {
     "data": {
      "text/plain": [
       "'TCS'"
      ]
     },
     "metadata": {},
     "output_type": "display_data"
    },
    {
     "data": {
      "text/plain": [
       "'HDFC'"
      ]
     },
     "metadata": {},
     "output_type": "display_data"
    },
    {
     "data": {
      "text/plain": [
       "'ITC'"
      ]
     },
     "metadata": {},
     "output_type": "display_data"
    },
    {
     "data": {
      "text/plain": [
       "'TATASTEEL'"
      ]
     },
     "metadata": {},
     "output_type": "display_data"
    },
    {
     "data": {
      "text/plain": [
       "'MARUTI'"
      ]
     },
     "metadata": {},
     "output_type": "display_data"
    },
    {
     "data": {
      "text/plain": [
       "'ICICIBANK'"
      ]
     },
     "metadata": {},
     "output_type": "display_data"
    },
    {
     "data": {
      "text/plain": [
       "'SBIN'"
      ]
     },
     "metadata": {},
     "output_type": "display_data"
    },
    {
     "data": {
      "text/plain": [
       "'BAJFINANCE'"
      ]
     },
     "metadata": {},
     "output_type": "display_data"
    },
    {
     "data": {
      "text/plain": [
       "'ADANIPORTS'"
      ]
     },
     "metadata": {},
     "output_type": "display_data"
    },
    {
     "data": {
      "text/plain": [
       "'TATAMOTORS'"
      ]
     },
     "metadata": {},
     "output_type": "display_data"
    },
    {
     "data": {
      "text/plain": [
       "'AXISBANK'"
      ]
     },
     "metadata": {},
     "output_type": "display_data"
    },
    {
     "data": {
      "text/plain": [
       "'TATAPOWER'"
      ]
     },
     "metadata": {},
     "output_type": "display_data"
    },
    {
     "data": {
      "text/plain": [
       "'ADANIENT'"
      ]
     },
     "metadata": {},
     "output_type": "display_data"
    },
    {
     "data": {
      "text/plain": [
       "'KOTAKBANK'"
      ]
     },
     "metadata": {},
     "output_type": "display_data"
    },
    {
     "data": {
      "text/plain": [
       "'HINDALCO'"
      ]
     },
     "metadata": {},
     "output_type": "display_data"
    },
    {
     "data": {
      "text/plain": [
       "'BHARTIARTL'"
      ]
     },
     "metadata": {},
     "output_type": "display_data"
    },
    {
     "data": {
      "text/plain": [
       "'NTPC'"
      ]
     },
     "metadata": {},
     "output_type": "display_data"
    },
    {
     "data": {
      "text/plain": [
       "'COALINDIA'"
      ]
     },
     "metadata": {},
     "output_type": "display_data"
    },
    {
     "data": {
      "text/plain": [
       "'WIPRO'"
      ]
     },
     "metadata": {},
     "output_type": "display_data"
    },
    {
     "data": {
      "text/plain": [
       "'HCLTECH'"
      ]
     },
     "metadata": {},
     "output_type": "display_data"
    },
    {
     "data": {
      "text/plain": [
       "'AMBUJACEM'"
      ]
     },
     "metadata": {},
     "output_type": "display_data"
    },
    {
     "data": {
      "text/plain": [
       "'JUBLFOOD'"
      ]
     },
     "metadata": {},
     "output_type": "display_data"
    },
    {
     "data": {
      "text/plain": [
       "'HINDUNILVR'"
      ]
     },
     "metadata": {},
     "output_type": "display_data"
    },
    {
     "data": {
      "text/plain": [
       "'ASIANPAINT'"
      ]
     },
     "metadata": {},
     "output_type": "display_data"
    },
    {
     "data": {
      "text/plain": [
       "'MINDTREE'"
      ]
     },
     "metadata": {},
     "output_type": "display_data"
    },
    {
     "data": {
      "text/plain": [
       "'M&M'"
      ]
     },
     "metadata": {},
     "output_type": "display_data"
    },
    {
     "data": {
      "text/plain": [
       "'SUNPHARMA'"
      ]
     },
     "metadata": {},
     "output_type": "display_data"
    },
    {
     "data": {
      "text/plain": [
       "'APOLLOHOSP'"
      ]
     },
     "metadata": {},
     "output_type": "display_data"
    },
    {
     "data": {
      "text/plain": [
       "'TITAN'"
      ]
     },
     "metadata": {},
     "output_type": "display_data"
    },
    {
     "data": {
      "text/plain": [
       "'INDUSINDBK'"
      ]
     },
     "metadata": {},
     "output_type": "display_data"
    },
    {
     "data": {
      "text/plain": [
       "'ACC'"
      ]
     },
     "metadata": {},
     "output_type": "display_data"
    },
    {
     "data": {
      "text/plain": [
       "'BANDHANBNK'"
      ]
     },
     "metadata": {},
     "output_type": "display_data"
    },
    {
     "data": {
      "text/plain": [
       "'JSWSTEEL'"
      ]
     },
     "metadata": {},
     "output_type": "display_data"
    },
    {
     "data": {
      "text/plain": [
       "'DRREDDY'"
      ]
     },
     "metadata": {},
     "output_type": "display_data"
    },
    {
     "data": {
      "text/plain": [
       "'HEROMOTOCO'"
      ]
     },
     "metadata": {},
     "output_type": "display_data"
    },
    {
     "data": {
      "text/plain": [
       "'BAJAJFINSV'"
      ]
     },
     "metadata": {},
     "output_type": "display_data"
    },
    {
     "data": {
      "text/plain": [
       "'CIPLA'"
      ]
     },
     "metadata": {},
     "output_type": "display_data"
    },
    {
     "data": {
      "text/plain": [
       "'LT'"
      ]
     },
     "metadata": {},
     "output_type": "display_data"
    },
    {
     "data": {
      "text/plain": [
       "'VOLTAS'"
      ]
     },
     "metadata": {},
     "output_type": "display_data"
    },
    {
     "data": {
      "text/plain": [
       "'TECHM'"
      ]
     },
     "metadata": {},
     "output_type": "display_data"
    },
    {
     "data": {
      "text/plain": [
       "'HDFCLIFE'"
      ]
     },
     "metadata": {},
     "output_type": "display_data"
    },
    {
     "data": {
      "text/plain": [
       "'ZEEL'"
      ]
     },
     "metadata": {},
     "output_type": "display_data"
    },
    {
     "data": {
      "text/plain": [
       "'BEL'"
      ]
     },
     "metadata": {},
     "output_type": "display_data"
    },
    {
     "data": {
      "text/plain": [
       "'UPL'"
      ]
     },
     "metadata": {},
     "output_type": "display_data"
    },
    {
     "data": {
      "text/plain": [
       "'ONGC'"
      ]
     },
     "metadata": {},
     "output_type": "display_data"
    },
    {
     "data": {
      "text/plain": [
       "'VEDL'"
      ]
     },
     "metadata": {},
     "output_type": "display_data"
    },
    {
     "data": {
      "text/plain": [
       "'ULTRACEMCO'"
      ]
     },
     "metadata": {},
     "output_type": "display_data"
    },
    {
     "data": {
      "text/plain": [
       "'SAIL'"
      ]
     },
     "metadata": {},
     "output_type": "display_data"
    },
    {
     "data": {
      "text/plain": [
       "'TATACONSUM'"
      ]
     },
     "metadata": {},
     "output_type": "display_data"
    },
    {
     "data": {
      "text/plain": [
       "'IRCTC'"
      ]
     },
     "metadata": {},
     "output_type": "display_data"
    },
    {
     "data": {
      "text/plain": [
       "'IEX'"
      ]
     },
     "metadata": {},
     "output_type": "display_data"
    },
    {
     "data": {
      "text/plain": [
       "'DLF'"
      ]
     },
     "metadata": {},
     "output_type": "display_data"
    },
    {
     "data": {
      "text/plain": [
       "'BSOFT'"
      ]
     },
     "metadata": {},
     "output_type": "display_data"
    },
    {
     "data": {
      "text/plain": [
       "'CHAMBLFERT'"
      ]
     },
     "metadata": {},
     "output_type": "display_data"
    },
    {
     "data": {
      "text/plain": [
       "'DIVISLAB'"
      ]
     },
     "metadata": {},
     "output_type": "display_data"
    },
    {
     "data": {
      "text/plain": [
       "'JINDALSTEL'"
      ]
     },
     "metadata": {},
     "output_type": "display_data"
    },
    {
     "data": {
      "text/plain": [
       "'BALRAMCHIN'"
      ]
     },
     "metadata": {},
     "output_type": "display_data"
    },
    {
     "data": {
      "text/plain": [
       "'BPCL'"
      ]
     },
     "metadata": {},
     "output_type": "display_data"
    },
    {
     "data": {
      "text/plain": [
       "'SRF'"
      ]
     },
     "metadata": {},
     "output_type": "display_data"
    },
    {
     "data": {
      "text/plain": [
       "'IDFCFIRSTB'"
      ]
     },
     "metadata": {},
     "output_type": "display_data"
    },
    {
     "data": {
      "text/plain": [
       "'PVR'"
      ]
     },
     "metadata": {},
     "output_type": "display_data"
    },
    {
     "data": {
      "text/plain": [
       "'ESCORTS'"
      ]
     },
     "metadata": {},
     "output_type": "display_data"
    },
    {
     "data": {
      "text/plain": [
       "'LICHSGFIN'"
      ]
     },
     "metadata": {},
     "output_type": "display_data"
    },
    {
     "data": {
      "text/plain": [
       "'LTI'"
      ]
     },
     "metadata": {},
     "output_type": "display_data"
    },
    {
     "data": {
      "text/plain": [
       "'GAIL'"
      ]
     },
     "metadata": {},
     "output_type": "display_data"
    },
    {
     "data": {
      "text/plain": [
       "'AUBANK'"
      ]
     },
     "metadata": {},
     "output_type": "display_data"
    },
    {
     "data": {
      "text/plain": [
       "'TATACOMM'"
      ]
     },
     "metadata": {},
     "output_type": "display_data"
    },
    {
     "data": {
      "text/plain": [
       "'RBLBANK'"
      ]
     },
     "metadata": {},
     "output_type": "display_data"
    },
    {
     "data": {
      "text/plain": [
       "'LUPIN'"
      ]
     },
     "metadata": {},
     "output_type": "display_data"
    },
    {
     "data": {
      "text/plain": [
       "'HAVELLS'"
      ]
     },
     "metadata": {},
     "output_type": "display_data"
    },
    {
     "data": {
      "text/plain": [
       "'HAL'"
      ]
     },
     "metadata": {},
     "output_type": "display_data"
    },
    {
     "data": {
      "text/plain": [
       "'INDIGO'"
      ]
     },
     "metadata": {},
     "output_type": "display_data"
    },
    {
     "data": {
      "text/plain": [
       "'POWERGRID'"
      ]
     },
     "metadata": {},
     "output_type": "display_data"
    },
    {
     "data": {
      "text/plain": [
       "'GNFC'"
      ]
     },
     "metadata": {},
     "output_type": "display_data"
    },
    {
     "data": {
      "text/plain": [
       "'GODREJCP'"
      ]
     },
     "metadata": {},
     "output_type": "display_data"
    },
    {
     "data": {
      "text/plain": [
       "'INDHOTEL'"
      ]
     },
     "metadata": {},
     "output_type": "display_data"
    },
    {
     "data": {
      "text/plain": [
       "'PEL'"
      ]
     },
     "metadata": {},
     "output_type": "display_data"
    },
    {
     "data": {
      "text/plain": [
       "'BIOCON'"
      ]
     },
     "metadata": {},
     "output_type": "display_data"
    },
    {
     "data": {
      "text/plain": [
       "'CHOLAFIN'"
      ]
     },
     "metadata": {},
     "output_type": "display_data"
    },
    {
     "data": {
      "text/plain": [
       "'BANKBARODA'"
      ]
     },
     "metadata": {},
     "output_type": "display_data"
    },
    {
     "data": {
      "text/plain": [
       "'HDFCAMC'"
      ]
     },
     "metadata": {},
     "output_type": "display_data"
    },
    {
     "data": {
      "text/plain": [
       "'DEEPAKNTR'"
      ]
     },
     "metadata": {},
     "output_type": "display_data"
    },
    {
     "data": {
      "text/plain": [
       "'TATACHEM'"
      ]
     },
     "metadata": {},
     "output_type": "display_data"
    },
    {
     "data": {
      "text/plain": [
       "'BHEL'"
      ]
     },
     "metadata": {},
     "output_type": "display_data"
    },
    {
     "data": {
      "text/plain": [
       "'POLYCAB'"
      ]
     },
     "metadata": {},
     "output_type": "display_data"
    },
    {
     "data": {
      "text/plain": [
       "'SBILIFE'"
      ]
     },
     "metadata": {},
     "output_type": "display_data"
    },
    {
     "data": {
      "text/plain": [
       "'AUROPHARMA'"
      ]
     },
     "metadata": {},
     "output_type": "display_data"
    },
    {
     "data": {
      "text/plain": [
       "'L&TFH'"
      ]
     },
     "metadata": {},
     "output_type": "display_data"
    },
    {
     "data": {
      "text/plain": [
       "'GRASIM'"
      ]
     },
     "metadata": {},
     "output_type": "display_data"
    },
    {
     "data": {
      "text/plain": [
       "'IOC'"
      ]
     },
     "metadata": {},
     "output_type": "display_data"
    },
    {
     "data": {
      "text/plain": [
       "'SBICARD'"
      ]
     },
     "metadata": {},
     "output_type": "display_data"
    },
    {
     "data": {
      "text/plain": [
       "'NMDC'"
      ]
     },
     "metadata": {},
     "output_type": "display_data"
    },
    {
     "data": {
      "text/plain": [
       "'ASHOKLEY'"
      ]
     },
     "metadata": {},
     "output_type": "display_data"
    },
    {
     "data": {
      "text/plain": [
       "'IGL'"
      ]
     },
     "metadata": {},
     "output_type": "display_data"
    },
    {
     "data": {
      "text/plain": [
       "'PNB'"
      ]
     },
     "metadata": {},
     "output_type": "display_data"
    },
    {
     "data": {
      "text/plain": [
       "'DABUR'"
      ]
     },
     "metadata": {},
     "output_type": "display_data"
    },
    {
     "data": {
      "text/plain": [
       "'EICHERMOT'"
      ]
     },
     "metadata": {},
     "output_type": "display_data"
    }
   ],
   "source": [
    "for i in range(100):\n",
    "    display(c_d1.loc[i,'SYMBOL'])"
   ]
  },
  {
   "cell_type": "code",
   "execution_count": null,
   "id": "20ba1727",
   "metadata": {},
   "outputs": [],
   "source": []
  }
 ],
 "metadata": {
  "kernelspec": {
   "display_name": "Python 3 (ipykernel)",
   "language": "python",
   "name": "python3"
  },
  "language_info": {
   "codemirror_mode": {
    "name": "ipython",
    "version": 3
   },
   "file_extension": ".py",
   "mimetype": "text/x-python",
   "name": "python",
   "nbconvert_exporter": "python",
   "pygments_lexer": "ipython3",
   "version": "3.9.12"
  }
 },
 "nbformat": 4,
 "nbformat_minor": 5
}
